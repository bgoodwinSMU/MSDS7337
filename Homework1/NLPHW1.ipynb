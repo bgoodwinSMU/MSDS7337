{
 "cells": [
  {
   "cell_type": "markdown",
   "id": "53f8ade1",
   "metadata": {},
   "source": [
    "Ben Goodwin\n",
    "\n",
    "NLP Homework #1\n",
    "\n",
    "1/11/2022"
   ]
  },
  {
   "cell_type": "markdown",
   "id": "7e00c16f",
   "metadata": {},
   "source": [
    "1. Install Python (if you don’t have it already), and install NLTK.  "
   ]
  },
  {
   "cell_type": "code",
   "execution_count": 1,
   "id": "2b0b7e38",
   "metadata": {},
   "outputs": [],
   "source": [
    "import nltk\n",
    "from nltk.corpus import gutenberg\n",
    "from nltk.tokenize import word_tokenize\n",
    "#nltk.download()"
   ]
  },
  {
   "cell_type": "markdown",
   "id": "0fa2cfd6",
   "metadata": {},
   "source": [
    "2.\tFollow the instructions in chapter 1 of Bird-Klein for implementing a “lexical diversity” scoring routine.!"
   ]
  },
  {
   "cell_type": "code",
   "execution_count": 2,
   "id": "67d5d3a8",
   "metadata": {},
   "outputs": [],
   "source": [
    "def lexical_diversity(text):\n",
    "    return len(set(text)) / len(text)\n",
    "\n",
    "def percentage(count, total):\n",
    "    return 100 * count / total"
   ]
  },
  {
   "cell_type": "markdown",
   "id": "bfc5b99b",
   "metadata": {},
   "source": [
    "3.\tGo to http://www.gutenberg.org/wiki/Children%27s_Instructional_Books_(Bookshelf), and obtain three texts (of different grade levels) from the “Graded Readers” section. Report the lexical diversity score of each. Explain whether the result was surprising."
   ]
  },
  {
   "cell_type": "code",
   "execution_count": 3,
   "id": "7728cb6f",
   "metadata": {},
   "outputs": [
    {
     "name": "stdout",
     "output_type": "stream",
     "text": [
      "0.12031294723785899\n",
      "0.11295912983481472\n",
      "0.09442734814021943\n"
     ]
    }
   ],
   "source": [
    "#Book title, Old-time Stories, Fairy Tales and Myths Retold by Children\n",
    "raw = open('talesandmyths.txt').read()\n",
    "raw = word_tokenize(raw)\n",
    "print(lexical_diversity(raw))\n",
    "\n",
    "#Book title, McGuffey's Fifth Eclectic Reader by William Holmes McGuffey\n",
    "raw1 = open('fifthelectronicreader.txt').read()\n",
    "raw1 = word_tokenize(raw1)\n",
    "print(lexical_diversity(raw1))\n",
    "#The results for this book were as expected with a low lexical diversity since the book is aimed towards children\n",
    "\n",
    "v\n",
    "raw2 = open('litearyworld.txt').read()\n",
    "raw2 = word_tokenize(raw2)\n",
    "print(lexical_diversity(raw2))\n",
    "#The results for this book were as expected with a low lexical diversity since the book is aimed towards children\n",
    "\n",
    "#When comparing these results against a text like moby dick by herman melville, the lexical divsity is much higher. Basically this is a ratio, where if we had a book with 10 words and 5 unique words we'd have the set of unique words (5) divided by the total words (10) giving a lexical diversity of 0\n",
    "print()\n",
    "\n"
   ]
  },
  {
   "cell_type": "markdown",
   "id": "94a8506a",
   "metadata": {},
   "source": [
    "4.\tAlso compare the vocabulary size of the same three texts. Explain whether the result was surprising."
   ]
  },
  {
   "cell_type": "code",
   "execution_count": 4,
   "id": "83de4532",
   "metadata": {},
   "outputs": [
    {
     "name": "stdout",
     "output_type": "stream",
     "text": [
      "969\n",
      "10611\n",
      "9708\n"
     ]
    }
   ],
   "source": [
    "#Book title, Old-time Stories, Fairy Tales and Myths Retold by Children\n",
    "print(len(set(word.lower() for word in raw if word.isalpha())))\n",
    "\n",
    "#Book title, McGuffey's Fifth Eclectic Reader by William Holmes McGuffey\n",
    "print(len(set(word.lower() for word in raw1 if word.isalpha())))\n",
    "\n",
    "#Book title, The Literary World Seventh Reader by Browne, Metcalf, and Withers\n",
    "print(len(set(word.lower() for word in raw2 if word.isalpha())))\n",
    "\n",
    "# My initial thoughts were that books with a higher lexical diversity would also have a small vocabulary size\n",
    "# Although this holds true for the first book \"Old-time Stories, Fairy Tales and Myths Retold by children\" this does not hold true for the other two.  The second book is very surprising.  This shows that each of these measures is important"
   ]
  },
  {
   "cell_type": "markdown",
   "id": "6dcbaf8a",
   "metadata": {},
   "source": [
    "5.\tWrite a paragraph arguing whether vocabulary size and lexical diversity in combination could be a better measure of text difficulty (or reading level) than either measure is by itself."
   ]
  },
  {
   "cell_type": "markdown",
   "id": "f0762cbd",
   "metadata": {},
   "source": [
    "The primary takeaway from the prior to activities was to prove just this point.  After determining that a higher lexical diversity indicates a larger ratio of unique words in the context of all words, one can use this in tandem with the vocabulary count.  These two must be used together because we could have a decently high lexical diversity, but also a large vocabulary because the text is quite long and the text could be quite challenging.  Whereas with vocabulary alone we could have a low count but a very focused topic such as an academic journal.  This debate could be just like metrics for machine learning, accuracy vs recall, each can tell its own story, but once the two are combined you can see a borader perspective on what exactly is really happening.  Each on its own may not be useful, but when combined you realize the true story.  "
   ]
  }
 ],
 "metadata": {
  "kernelspec": {
   "display_name": "Python 3",
   "language": "python",
   "name": "python3"
  },
  "language_info": {
   "codemirror_mode": {
    "name": "ipython",
    "version": 3
   },
   "file_extension": ".py",
   "mimetype": "text/x-python",
   "name": "python",
   "nbconvert_exporter": "python",
   "pygments_lexer": "ipython3",
   "version": "3.9.1"
  }
 },
 "nbformat": 4,
 "nbformat_minor": 5
}
