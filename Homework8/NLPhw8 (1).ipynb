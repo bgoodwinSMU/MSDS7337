{
 "cells": [
  {
   "cell_type": "markdown",
   "id": "4cd81a6a",
   "metadata": {},
   "source": [
    "#### Ben Goodwin\n",
    "\n",
    "#### NLP HW #8\n",
    "\n",
    "#### April 12th 2022"
   ]
  },
  {
   "cell_type": "markdown",
   "id": "c9684354",
   "metadata": {},
   "source": [
    "1.\tIn Python, load one of the sentiment vocabularies referenced in the textbook, and run the sentiment analyzer as explained in the corresponding reference. Add words to the sentiment vocabulary, if you think you need to, to better fit your particular text collection."
   ]
  },
  {
   "cell_type": "code",
   "execution_count": 33,
   "id": "7d2df35e",
   "metadata": {},
   "outputs": [
    {
     "name": "stderr",
     "output_type": "stream",
     "text": [
      "[nltk_data] Downloading package opinion_lexicon to\n",
      "[nltk_data]     /Users/benjamingoodwin/nltk_data...\n",
      "[nltk_data]   Package opinion_lexicon is already up-to-date!\n"
     ]
    }
   ],
   "source": [
    "#First, bring in the libraries as needed\n",
    "import pandas as pd\n",
    "import nltk\n",
    "nltk.download('opinion_lexicon')\n",
    "from nltk.corpus import opinion_lexicon\n",
    "from nltk.tokenize import treebank\n",
    "from nltk.sentiment import SentimentIntensityAnalyzer"
   ]
  },
  {
   "cell_type": "code",
   "execution_count": 4,
   "id": "4b125b7f",
   "metadata": {},
   "outputs": [
    {
     "data": {
      "text/html": [
       "<div>\n",
       "<style scoped>\n",
       "    .dataframe tbody tr th:only-of-type {\n",
       "        vertical-align: middle;\n",
       "    }\n",
       "\n",
       "    .dataframe tbody tr th {\n",
       "        vertical-align: top;\n",
       "    }\n",
       "\n",
       "    .dataframe thead th {\n",
       "        text-align: right;\n",
       "    }\n",
       "</style>\n",
       "<table border=\"1\" class=\"dataframe\">\n",
       "  <thead>\n",
       "    <tr style=\"text-align: right;\">\n",
       "      <th></th>\n",
       "      <th>Review</th>\n",
       "    </tr>\n",
       "  </thead>\n",
       "  <tbody>\n",
       "    <tr>\n",
       "      <th>0</th>\n",
       "      <td>I saw this film originally when I was about 12...</td>\n",
       "    </tr>\n",
       "    <tr>\n",
       "      <th>1</th>\n",
       "      <td>I didn't quite understand all of the jokes, bu...</td>\n",
       "    </tr>\n",
       "    <tr>\n",
       "      <th>2</th>\n",
       "      <td>As a film Dr. Strangelove was so well received...</td>\n",
       "    </tr>\n",
       "    <tr>\n",
       "      <th>3</th>\n",
       "      <td>An impeccably-made slice of Cold War satire, K...</td>\n",
       "    </tr>\n",
       "    <tr>\n",
       "      <th>4</th>\n",
       "      <td>Dr. Strangelove or: How I Learned to Stop Worr...</td>\n",
       "    </tr>\n",
       "    <tr>\n",
       "      <th>...</th>\n",
       "      <td>...</td>\n",
       "    </tr>\n",
       "    <tr>\n",
       "      <th>93</th>\n",
       "      <td>One of the great 90s spoof comedies. The vibe ...</td>\n",
       "    </tr>\n",
       "    <tr>\n",
       "      <th>94</th>\n",
       "      <td>\"Austin Powers: International Man of Mystery\" ...</td>\n",
       "    </tr>\n",
       "    <tr>\n",
       "      <th>95</th>\n",
       "      <td>This is really a funny parody of the Bond movi...</td>\n",
       "    </tr>\n",
       "    <tr>\n",
       "      <th>96</th>\n",
       "      <td>Mike Myers plays both Austin Powers, as groovy...</td>\n",
       "    </tr>\n",
       "    <tr>\n",
       "      <th>97</th>\n",
       "      <td>After an evil genius by the name of \"Dr. Evil\"...</td>\n",
       "    </tr>\n",
       "  </tbody>\n",
       "</table>\n",
       "<p>98 rows × 1 columns</p>\n",
       "</div>"
      ],
      "text/plain": [
       "                                               Review\n",
       "0   I saw this film originally when I was about 12...\n",
       "1   I didn't quite understand all of the jokes, bu...\n",
       "2   As a film Dr. Strangelove was so well received...\n",
       "3   An impeccably-made slice of Cold War satire, K...\n",
       "4   Dr. Strangelove or: How I Learned to Stop Worr...\n",
       "..                                                ...\n",
       "93  One of the great 90s spoof comedies. The vibe ...\n",
       "94  \"Austin Powers: International Man of Mystery\" ...\n",
       "95  This is really a funny parody of the Bond movi...\n",
       "96  Mike Myers plays both Austin Powers, as groovy...\n",
       "97  After an evil genius by the name of \"Dr. Evil\"...\n",
       "\n",
       "[98 rows x 1 columns]"
      ]
     },
     "execution_count": 4,
     "metadata": {},
     "output_type": "execute_result"
    }
   ],
   "source": [
    "#Movies are the following 3:\n",
    "\n",
    "#Dr.Strangelove or How I learned to stop worrying and love the bomb\n",
    "#Anchorman\n",
    "#Austin Powers\n",
    "\n",
    "#Each of these fall into the comedy genere\n",
    "#Each contains positive and negative reviews\n",
    "\n",
    "#The file below is the actual review from IMDB from HW 5\n",
    "dat = pd.read_csv(\"reviewList.csv\")\n",
    "\n",
    "#Examine the data\n",
    "dat"
   ]
  },
  {
   "cell_type": "code",
   "execution_count": 8,
   "id": "1ff60674",
   "metadata": {},
   "outputs": [],
   "source": [
    "#Now lets bring in some sentiment vocabulary\n",
    "\n",
    "pos_list=set(opinion_lexicon.positive())\n",
    "neg_list=set(opinion_lexicon.negative())"
   ]
  },
  {
   "cell_type": "code",
   "execution_count": 17,
   "id": "56bd2e38",
   "metadata": {},
   "outputs": [],
   "source": [
    "#initialize the tokenizer\n",
    "tokenizer = treebank.TreebankWordTokenizer()"
   ]
  },
  {
   "cell_type": "code",
   "execution_count": 9,
   "id": "d3aced8f",
   "metadata": {},
   "outputs": [],
   "source": [
    "#Def function to calculate sentiment\n",
    "def sentiment(sentence):\n",
    "  senti=0\n",
    "  words = [word.lower() for word in tokenizer.tokenize(sentence)]\n",
    "  for word in words:\n",
    "    if word in pos_list:\n",
    "      senti += 1\n",
    "    elif word in neg_list:\n",
    "      senti -= 1\n",
    "  return senti"
   ]
  },
  {
   "cell_type": "code",
   "execution_count": 18,
   "id": "85737bbe",
   "metadata": {},
   "outputs": [],
   "source": [
    "#Create new sentiment column in dataframe\n",
    "dat['sentiment']=dat['Review'].apply(sentiment)"
   ]
  },
  {
   "cell_type": "code",
   "execution_count": 30,
   "id": "7ba2a160",
   "metadata": {},
   "outputs": [
    {
     "data": {
      "text/plain": [
       "0     10\n",
       "1      7\n",
       "2      3\n",
       "3      4\n",
       "4     -3\n",
       "5      1\n",
       "6      1\n",
       "7      5\n",
       "8     -4\n",
       "9      3\n",
       "10     8\n",
       "11     7\n",
       "12     1\n",
       "13     6\n",
       "14    -4\n",
       "15    11\n",
       "16     4\n",
       "17     9\n",
       "18    -9\n",
       "19     8\n",
       "20     0\n",
       "21    -5\n",
       "22     3\n",
       "23    -2\n",
       "24    -6\n",
       "25    11\n",
       "26     3\n",
       "27    -4\n",
       "28    -4\n",
       "29     1\n",
       "30     0\n",
       "31    -3\n",
       "32     6\n",
       "33     1\n",
       "34    24\n",
       "35     1\n",
       "36    11\n",
       "37    -4\n",
       "38    -6\n",
       "39     0\n",
       "40     1\n",
       "41     1\n",
       "42    20\n",
       "43    -2\n",
       "44    -3\n",
       "45     8\n",
       "46     1\n",
       "47     1\n",
       "48     1\n",
       "49     3\n",
       "50     1\n",
       "51    -6\n",
       "52    15\n",
       "53     4\n",
       "54     2\n",
       "55     6\n",
       "56     3\n",
       "57    -8\n",
       "58    15\n",
       "59    -3\n",
       "60    -2\n",
       "61    -9\n",
       "62    -6\n",
       "63    -3\n",
       "64    -9\n",
       "65     4\n",
       "66     0\n",
       "67     3\n",
       "68     2\n",
       "69     2\n",
       "70     0\n",
       "71    -7\n",
       "72     8\n",
       "73    -1\n",
       "74    -2\n",
       "75     9\n",
       "76    -1\n",
       "77     9\n",
       "78     5\n",
       "79    -3\n",
       "80    -8\n",
       "81    -3\n",
       "82     1\n",
       "83    -4\n",
       "84    -4\n",
       "85     1\n",
       "86    -6\n",
       "87    -2\n",
       "88     0\n",
       "89     2\n",
       "90    10\n",
       "91    -9\n",
       "92     1\n",
       "93     4\n",
       "94   -10\n",
       "95     5\n",
       "96    -7\n",
       "97    -6\n",
       "Name: sentiment, dtype: int64"
      ]
     },
     "execution_count": 30,
     "metadata": {},
     "output_type": "execute_result"
    }
   ],
   "source": [
    "#Examine some of the sentiment.\n",
    "dat['sentiment']"
   ]
  },
  {
   "cell_type": "markdown",
   "id": "752aee6c",
   "metadata": {},
   "source": [
    "#### Discussion of question 1\n",
    "\n",
    "This was quite a challenging question to solve, I went through many iterations and steps to get this sentiment analysis.  I eventually reasoned that it would be best to derive the sentiment based on the most influential words, only to realize this wasn't the intent of the question. I instead re-grouped and realized this was related to hw #5.  I pulled the review data from hw 5 and ran a sentiment analysis based on vocabulary (pre-tagged) and proceeded.  Actually solved this one pretty quickly after I figured out the intent of the question."
   ]
  },
  {
   "cell_type": "markdown",
   "id": "cbd465ed",
   "metadata": {},
   "source": [
    "2.\tFor each of the clusters you created in homework 7, compute the average, median, high, and low sentiment scores for each cluster. Explain whether you think this reveals anything interesting about the clusters."
   ]
  },
  {
   "cell_type": "code",
   "execution_count": 31,
   "id": "d79278c2",
   "metadata": {},
   "outputs": [],
   "source": [
    "words1 = \"film seller kubrick war strangelov movi one peter nuclear general scott dr presid role stanley georg charact comedi ripper like\"\n",
    "words2 = \"austin evil myer power mike spoof dr bond film hurley spi movi one world vanessa elizabeth funni frozen agent cryogen\"\n",
    "words3 = \"ron film movi news one nurgundi veri watch ferrel funni veronica anchor seen appleg say silli comedi mike anchorman fight\""
   ]
  },
  {
   "cell_type": "code",
   "execution_count": 34,
   "id": "28f95175",
   "metadata": {},
   "outputs": [],
   "source": [
    "sia = SentimentIntensityAnalyzer()"
   ]
  },
  {
   "cell_type": "code",
   "execution_count": 35,
   "id": "e9a1fa46",
   "metadata": {},
   "outputs": [
    {
     "data": {
      "text/plain": [
       "{'neg': 0.16, 'neu': 0.738, 'pos': 0.102, 'compound': -0.34}"
      ]
     },
     "execution_count": 35,
     "metadata": {},
     "output_type": "execute_result"
    }
   ],
   "source": [
    "#Dr.Strangelove Sentiment Analysis, \"cluster 0\"\n",
    "sia.polarity_scores(words1)"
   ]
  },
  {
   "cell_type": "code",
   "execution_count": 36,
   "id": "b8f0a4bb",
   "metadata": {},
   "outputs": [
    {
     "data": {
      "text/plain": [
       "{'neg': 0.188, 'neu': 0.812, 'pos': 0.0, 'compound': -0.6597}"
      ]
     },
     "execution_count": 36,
     "metadata": {},
     "output_type": "execute_result"
    }
   ],
   "source": [
    "#Austin Powers Sentiment Analysis, \"cluster 1\"\n",
    "sia.polarity_scores(words2)"
   ]
  },
  {
   "cell_type": "code",
   "execution_count": 37,
   "id": "87c3af35",
   "metadata": {},
   "outputs": [
    {
     "data": {
      "text/plain": [
       "{'neg': 0.12, 'neu': 0.88, 'pos': 0.0, 'compound': -0.3818}"
      ]
     },
     "execution_count": 37,
     "metadata": {},
     "output_type": "execute_result"
    }
   ],
   "source": [
    "#Anchorman Sentiment Analysis, \"Cluster 2\"\n",
    "sia.polarity_scores(words3)"
   ]
  },
  {
   "cell_type": "code",
   "execution_count": 48,
   "id": "caaa14a5",
   "metadata": {},
   "outputs": [
    {
     "data": {
      "text/plain": [
       "{'review_rating': [1.0, 7.2, 8.0, 10.0],\n",
       " 'vader_score': [0.388, 0.81, 0.034, -0.4605]}"
      ]
     },
     "execution_count": 48,
     "metadata": {},
     "output_type": "execute_result"
    }
   ],
   "source": [
    "table =({'review_rating' : [1.0, 7.2, 8.0, 10.0],\n",
    "                                  'vader_score': [0.388, 0.81, 0.034, -0.4605]})\n",
    "table\n"
   ]
  },
  {
   "cell_type": "markdown",
   "id": "6155d4ad",
   "metadata": {},
   "source": [
    "#### Discussion of question 2\n",
    "\n",
    "Both IMDB and this analysis certainly confirm the same thing.  We can see that the review sentiment for these movies tend toward generally good reviews, each of the clusters have a mean of around 7.2, and according to IMDB these movies are certianly in a class of their own. However, since I gathered a range of review sentiments, we can see that at least one reviewer has decided that these movies are not any good and scored a value of 1 for the review.  Based on the sentiment analysis, however, it seems like most of the reviews actually express negative sentiment.  I have a few thoughts behind this, Dr.Srangelove is a \"dark\" comedy, and one of the main characters in Austin Powers is \"Dr.Evil\" and each of these words occur super frequently in each of these reviews and could accidentally skew the review information. \n",
    "\n",
    "In conclusion, I feel strongly that these movies are accurately relflected in this sentiment analysis.  I find that my results from homework 7 are more insightful, but nonetheless this was a good assignment!\n",
    "\n",
    "Thanks!\n"
   ]
  }
 ],
 "metadata": {
  "kernelspec": {
   "display_name": "Python 3",
   "language": "python",
   "name": "python3"
  },
  "language_info": {
   "codemirror_mode": {
    "name": "ipython",
    "version": 3
   },
   "file_extension": ".py",
   "mimetype": "text/x-python",
   "name": "python",
   "nbconvert_exporter": "python",
   "pygments_lexer": "ipython3",
   "version": "3.9.1"
  }
 },
 "nbformat": 4,
 "nbformat_minor": 5
}
